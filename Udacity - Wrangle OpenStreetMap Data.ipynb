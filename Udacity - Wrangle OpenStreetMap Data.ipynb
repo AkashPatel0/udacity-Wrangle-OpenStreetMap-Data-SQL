{
 "cells": [
  {
   "cell_type": "markdown",
   "metadata": {},
   "source": [
    "# Wrangle OpenStreetMap Data\n",
    "\n",
    "**Akash Patel**"
   ]
  },
  {
   "cell_type": "markdown",
   "metadata": {},
   "source": [
    "## Map Area"
   ]
  },
  {
   "cell_type": "markdown",
   "metadata": {},
   "source": [
    "The area I chose for this project to analyze is Denver which is the capital city of Colorado.\n",
    "\n",
    "OpenStreetMap coordinates:  \n",
    "\n",
    "- **Longitude:** -105.2298000, -104.4800000\n",
    "- **Latitude:** 39.5956000, 39.9329000"
   ]
  },
  {
   "cell_type": "markdown",
   "metadata": {},
   "source": [
    "## Identifying and Cleaning Problems in the Map"
   ]
  },
  {
   "cell_type": "markdown",
   "metadata": {},
   "source": [
    "1. I first created a sample file (**Sample_data.py**) using script provided by Udacity, a sample containing every 500the element from the original file (**denver_colorado_osm**)\n",
    "2. To get the unique tags, I parsed through the dataset by using count_tags function (**mapparser.py**)\n",
    "\n",
    "    > <font color=blue>\n",
    "        {'bounds': 1,\n",
    "         'member': 44664,\n",
    "         'meta': 1,\n",
    "         'nd': 3526619,\n",
    "         'node': 3132214,\n",
    "         'note': 1,\n",
    "         'osm': 1,\n",
    "         'relation': 1725,\n",
    "        'tag': 1842489,\n",
    "         'way': 396041}</font>\n",
    "         \n",
    "     \n",
    "3. I then checked \"k\" value for each < tag > and see if there are any potential problems. (**process_map.py**)\n",
    "\n",
    "   > <font color=blue>{'lower': 2509, 'lower_colon': 1149, 'other': 41, 'problemchars': 0}</font>\n",
    "    \n",
    "4. I first analyzed the sample data (**audit.py**) to view unsual street names. I found few street names to be inconsistency and abbreviated. (such as Ln and Ln., blvd, blvd.,blvd,)\n",
    "5. I then used **data.py** and **schema.py** on original data to clean the street names and convert XML to CSV format."
   ]
  },
  {
   "cell_type": "markdown",
   "metadata": {},
   "source": [
    "## Data Overview"
   ]
  },
  {
   "cell_type": "markdown",
   "metadata": {},
   "source": [
    "#### File Sizes:\n",
    "- denver_colorado_osm: 714mb\n",
    "- sample_osm:1.4mb\n",
    "- nodes.csv: 270mb\n",
    "- nodes_tags.csv: 16.2mb\n",
    "- ways.csv: 24.7mb\n",
    "- ways_nodes.csv: 86mb\n",
    "- ways_tags.csv: 46.4mb\n",
    "- denver_colorado_osm.db: 497.2mb"
   ]
  },
  {
   "cell_type": "markdown",
   "metadata": {},
   "source": [
    "## Importing to Database"
   ]
  },
  {
   "cell_type": "markdown",
   "metadata": {},
   "source": [
    "Finally, after cleaninng the data and converting from XML to CSV, I was ready to import the files to SQL Database using a given schema.(**SQL_DB.py**)"
   ]
  },
  {
   "cell_type": "markdown",
   "metadata": {},
   "source": [
    "### Inspecting Database"
   ]
  },
  {
   "cell_type": "markdown",
   "metadata": {},
   "source": [
    "After importing the files to database, I was ready to run queries and inspect the database. (**DB_Query.py**)"
   ]
  },
  {
   "cell_type": "markdown",
   "metadata": {},
   "source": [
    "#### Number of Nodes:\n",
    "\n",
    "> SELECT COUNT(*) FROM nodes\n",
    "\n",
    "Output: <font color=blue>3132214</font>  "
   ]
  },
  {
   "cell_type": "markdown",
   "metadata": {},
   "source": [
    "#### Number of Ways:\n",
    "> SELECT COUNT(*) FROM ways\n",
    "\n",
    "Output: <font color=blue>396041</font> "
   ]
  },
  {
   "cell_type": "markdown",
   "metadata": {},
   "source": [
    "#### Number of Unique Users:\n",
    "> SELECT COUNT(distinct(uid)) FROM (SELECT uid FROM nodes UNION ALL SELECT uid FROM ways)\n",
    "\n",
    "Output: <font color=blue>1467</font> "
   ]
  },
  {
   "cell_type": "markdown",
   "metadata": {},
   "source": [
    "#### Top Contributing User:\n",
    ">SELECT e.user, COUNT(*) as num \\\n",
    "                            FROM (SELECT user FROM nodes UNION ALL SELECT user FROM ways) e \\\n",
    "                            GROUP BY e.user \\\n",
    "                            ORDER BY num DESC \\\n",
    "                            LIMIT 1 \n",
    "                            \n",
    "Output: <font color=blue>chachafish</font> "
   ]
  },
  {
   "cell_type": "markdown",
   "metadata": {},
   "source": [
    "#### Biggest Religion:\n",
    "> SELECT nodes_tags.value, COUNT(*) as num ' \\\n",
    "                           'FROM nodes_tags \\\n",
    "                                JOIN (SELECT DISTINCT(id) FROM   nodes_tags WHERE value=\"place_of_worship\") i \\\n",
    "                                ON nodes_tags.id=i.id \\\n",
    "                            WHERE nodes_tags.key=\"religion\" \\\n",
    "                            GROUP BY nodes_tags.value \\\n",
    "                            ORDER BY num DESC\\\n",
    "                            LIMIT 1\n",
    "                            \n",
    "Output: <font color=blue>Christian</font>  "
   ]
  },
  {
   "cell_type": "markdown",
   "metadata": {},
   "source": [
    "#### Popular Amenity:\n",
    "> SELECT nodes_Tags.value, COUNT(*) as num \\\n",
    "                            FROM nodes_Tags \\\n",
    "                                JOIN (SELECT DISTINCT(id) FROM nodes_Tags WHERE value='bank') i \\\n",
    "                                ON nodes_Tags.id=i.id \\\n",
    "                            WHERE nodes_Tags.key='name' \\\n",
    "                            GROUP BY nodes_Tags.value \\\n",
    "                            ORDER BY num DESC \\\n",
    "                            LIMIT 1\n",
    "                            \n",
    "Output: <font color=blue>Restaurant</font>                            "
   ]
  },
  {
   "cell_type": "markdown",
   "metadata": {},
   "source": [
    "#### Biggest Bank:\n",
    "> SELECT value, COUNT(*) as num \\\n",
    "                            FROM nodes_tags \\\n",
    "                            WHERE key=\"amenity\" \\\n",
    "                            GROUP BY value \\\n",
    "                            ORDER BY num DESC \\\n",
    "                            LIMIT 1\n",
    "\n",
    "Output: <font color=blue>Chase</font>                           \n",
    "                            "
   ]
  },
  {
   "cell_type": "markdown",
   "metadata": {},
   "source": [
    "#### Popular Cuisine:\n",
    "> SELECT nodes_tags.value, COUNT(*) as num \\\n",
    "                            FROM nodes_tags \\\n",
    "                                JOIN (SELECT DISTINCT(id) FROM nodes_tags WHERE value=\"restaurant\") i \\\n",
    "                                ON nodes_tags.id=i.id \\\n",
    "                            WHERE nodes_tags.key=\"cuisine\" \\\n",
    "                            GROUP BY nodes_tags.value \\\n",
    "                            ORDER BY num DESC\n",
    "                            \n",
    "Output: <font color=blue>American</font>  "
   ]
  },
  {
   "cell_type": "markdown",
   "metadata": {},
   "source": [
    "## Conclusion"
   ]
  },
  {
   "cell_type": "markdown",
   "metadata": {},
   "source": [
    "The datafile that I downloaded from OpenStreetMap was quite large with few inconsistencies in the format and abbreviation, but in general, the data was cleaner than what I had expected to easily complete this project. \n",
    "This project was good exercise in learning data gathering, auditing, cleaninig, and analysis. It was also a good experience to learn the basis of creating and importing data with a SQL database.\n",
    "\n",
    "Suggestions for improvements for data in openstreetmap is to develop scripts to maintan, clean and most up-to-date data regularly for future users. "
   ]
  },
  {
   "cell_type": "code",
   "execution_count": null,
   "metadata": {},
   "outputs": [],
   "source": []
  }
 ],
 "metadata": {
  "kernelspec": {
   "display_name": "python2.7 Udacity",
   "language": "python",
   "name": "dand"
  },
  "language_info": {
   "codemirror_mode": {
    "name": "ipython",
    "version": 2
   },
   "file_extension": ".py",
   "mimetype": "text/x-python",
   "name": "python",
   "nbconvert_exporter": "python",
   "pygments_lexer": "ipython2",
   "version": "2.7.17"
  }
 },
 "nbformat": 4,
 "nbformat_minor": 2
}
